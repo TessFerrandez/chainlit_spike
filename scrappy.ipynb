{
 "cells": [
  {
   "cell_type": "code",
   "execution_count": null,
   "metadata": {},
   "outputs": [],
   "source": [
    "from langchain_core.prompts import PromptTemplate\n",
    "from langchain_core.output_parsers  import StrOutputParser\n",
    "\n",
    "from langchain_community.document_loaders import PyPDFLoader\n",
    "from langchain_core.documents.base import Document \n",
    "from langchain_openai import AzureChatOpenAI\n",
    "from langchain_text_splitters import TokenTextSplitter\n"
   ]
  },
  {
   "cell_type": "code",
   "execution_count": null,
   "metadata": {},
   "outputs": [],
   "source": [
    "import os\n",
    "from dotenv import load_dotenv, find_dotenv\n",
    "\n",
    "\n",
    "load_dotenv(find_dotenv())\n",
    "\n",
    "\n",
    "AZURE_OPENAI_CHAT_DEPLOYMENT_VERSION = os.getenv(\"AZURE_OPENAI_CHAT_DEPLOYMENT_VERSION\")\n",
    "AZURE_OPENAI_CHAT_DEPLOYMENT = os.getenv(\"AZURE_OPENAI_CHAT_DEPLOYMENT_NAME\")\n",
    "AZURE_OPENAI_EMBEDDINGS_DEPLOYMENT = os.getenv(\"AZURE_OPENAI_EMBEDDINGS_DEPLOYMENT\")\n",
    "\n",
    "print(AZURE_OPENAI_CHAT_DEPLOYMENT)"
   ]
  },
  {
   "cell_type": "code",
   "execution_count": null,
   "metadata": {},
   "outputs": [],
   "source": [
    "url = \"https://arxiv.org/pdf/1706.03762.pdf\" #attention is all you need\n",
    "url = \"https://dosequis.colorado.edu/Courses/MethodsLogic/papers/WatsonCrick1953.pdf\" #watson and crick\n",
    "url = \"https://citeseerx.ist.psu.edu/document?repid=rep1&type=pdf&doi=587222fc46037816093a897a01a17dd3c2e56a42\"\n",
    "url =\"https://arxiv.org/pdf/2305.16291.pdf\" #voyager\n",
    "url = \"https://arxiv.org/pdf/2305.17926.pdf\" #llms are not fair evaluators\n",
    "loader = PyPDFLoader(url)\n",
    "docs = loader.load()"
   ]
  },
  {
   "cell_type": "code",
   "execution_count": null,
   "metadata": {},
   "outputs": [],
   "source": [
    "print(docs)"
   ]
  },
  {
   "cell_type": "code",
   "execution_count": null,
   "metadata": {},
   "outputs": [],
   "source": [
    "combined = \"\".join([d.page_content for d in docs])"
   ]
  },
  {
   "cell_type": "code",
   "execution_count": null,
   "metadata": {},
   "outputs": [],
   "source": [
    "print(combined)"
   ]
  },
  {
   "cell_type": "code",
   "execution_count": null,
   "metadata": {},
   "outputs": [],
   "source": [
    "llm = AzureChatOpenAI(\n",
    "    api_version=AZURE_OPENAI_CHAT_DEPLOYMENT_VERSION,\n",
    "    deployment_name=AZURE_OPENAI_CHAT_DEPLOYMENT,\n",
    "    temperature=0.0,\n",
    ")\n",
    "\n",
    "print(AZURE_OPENAI_CHAT_DEPLOYMENT)"
   ]
  },
  {
   "cell_type": "code",
   "execution_count": null,
   "metadata": {},
   "outputs": [],
   "source": [
    "prompt_template = \"\"\"Summarise each section of this academic paper for a {level} audience. \n",
    "                    Try to highlight the important themes and ideas in the paper. If there are\n",
    "                    particularly important ideas, add a section discussing them. \n",
    "                    Start with a high-level summary of the paper and conclude with a bullet list of the important ideas.\n",
    "                    Highlight the results and achivements in the paper.\n",
    "                    This is the content:\n",
    "\n",
    "                    {text}\n",
    "                    \"\"\"\n",
    "\n",
    "PROMPT = PromptTemplate(template=prompt_template, input_variables=[\"text\"]) "
   ]
  },
  {
   "cell_type": "code",
   "execution_count": null,
   "metadata": {},
   "outputs": [],
   "source": [
    "chain = PROMPT | llm | StrOutputParser()\n"
   ]
  },
  {
   "cell_type": "code",
   "execution_count": null,
   "metadata": {},
   "outputs": [],
   "source": [
    "text_splitter = TokenTextSplitter(\n",
    "    encoding_name=\"cl100k_base\", chunk_size=15000, chunk_overlap=0\n",
    ")\n",
    "texts = text_splitter.split_text(combined)\n",
    "input_text = texts[0]\n",
    "was_truncated = False if len(input_text) == len(combined) else True\n",
    "\n",
    "print(was_truncated)\n"
   ]
  },
  {
   "cell_type": "code",
   "execution_count": null,
   "metadata": {},
   "outputs": [],
   "source": [
    "\n",
    "model_output = chain.invoke({\"text\": Document(page_content=input_text), \"level\": \"practitioner\"})\n",
    "if was_truncated:\n",
    "    model_output = f\"WARINING, THIS WAS BASED ON AN INCOMPLETE DOCUMENT. \\n\\n {model_output}\"\n",
    "\n",
    "print(model_output)"
   ]
  },
  {
   "cell_type": "code",
   "execution_count": null,
   "metadata": {},
   "outputs": [],
   "source": [
    "def the_whole_thing(url, summarize_chain)-> str:\n",
    "    loader = PyPDFLoader(url)\n",
    "    docs = loader.load()\n",
    "    combined = \"\".join([d.page_content for d in docs])\n",
    "\n",
    "    text_splitter = TokenTextSplitter(\n",
    "        encoding_name=\"cl100k_base\", chunk_size=15000, chunk_overlap=0\n",
    "    )\n",
    "    texts = text_splitter.split_text(combined)\n",
    "    input_text = texts[0]\n",
    "    was_truncated = False if len(input_text) == len(combined) else True\n",
    "\n",
    "    model_output = summarize_chain.invoke({\"text\": Document(page_content=input_text), \"level\": \"practitioner\"})\n",
    "    if was_truncated:\n",
    "        model_output = f\"WARINING, THIS WAS BASED ON AN INCOMPLETE DOCUMENT. \\n\\n {model_output}\"\n",
    "\n",
    "    return model_output"
   ]
  },
  {
   "cell_type": "code",
   "execution_count": null,
   "metadata": {},
   "outputs": [],
   "source": [
    "urls = [\n",
    "\"https://arxiv.org/pdf/1706.03762.pdf\", #attention is all you need\n",
    "\"https://arxiv.org/pdf/2305.16291.pdf\" ,#voyager\n",
    "\"https://arxiv.org/pdf/2305.17926.pdf\", #llms are not fair evaluators\n",
    "\"https://citeseerx.ist.psu.edu/document?repid=rep1&type=pdf&doi=587222fc46037816093a897a01a17dd3c2e56a42\",\n",
    "\"https://dosequis.colorado.edu/Courses/MethodsLogic/papers/WatsonCrick1953.pdf\" #watson and crick\n",
    "]\n",
    "\n",
    "for url in urls:\n",
    "    print(\"####################\")\n",
    "    print(the_whole_thing(url, chain))"
   ]
  },
  {
   "cell_type": "code",
   "execution_count": null,
   "metadata": {},
   "outputs": [],
   "source": []
  }
 ],
 "metadata": {
  "kernelspec": {
   "display_name": ".venv",
   "language": "python",
   "name": "python3"
  },
  "language_info": {
   "codemirror_mode": {
    "name": "ipython",
    "version": 3
   },
   "file_extension": ".py",
   "mimetype": "text/x-python",
   "name": "python",
   "nbconvert_exporter": "python",
   "pygments_lexer": "ipython3",
   "version": "3.12.2"
  }
 },
 "nbformat": 4,
 "nbformat_minor": 2
}
